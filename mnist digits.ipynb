{
 "cells": [
  {
   "cell_type": "code",
   "execution_count": 54,
   "metadata": {},
   "outputs": [],
   "source": [
    "import tensorflow as tf\n",
    "import matplotlib.pyplot as plt\n",
    "%matplotlib inline\n",
    "import numpy as np\n",
    "import pandas as pd"
   ]
  },
  {
   "cell_type": "code",
   "execution_count": 55,
   "metadata": {},
   "outputs": [
    {
     "data": {
      "text/plain": [
       "<module 'tensorflow._api.v2.version' from 'C:\\\\Users\\\\Saurav Suresh\\\\anaconda3\\\\lib\\\\site-packages\\\\tensorflow\\\\_api\\\\v2\\\\version\\\\__init__.py'>"
      ]
     },
     "execution_count": 55,
     "metadata": {},
     "output_type": "execute_result"
    }
   ],
   "source": [
    "tf.version"
   ]
  },
  {
   "cell_type": "code",
   "execution_count": 56,
   "metadata": {},
   "outputs": [],
   "source": [
    "train=pd.read_csv('train.csv')"
   ]
  },
  {
   "cell_type": "code",
   "execution_count": 57,
   "metadata": {},
   "outputs": [],
   "source": [
    "Y_train = train[\"label\"]"
   ]
  },
  {
   "cell_type": "code",
   "execution_count": 58,
   "metadata": {},
   "outputs": [],
   "source": [
    "X_train = train.drop(labels = [\"label\"],axis = 1) "
   ]
  },
  {
   "cell_type": "code",
   "execution_count": 59,
   "metadata": {},
   "outputs": [],
   "source": [
    "test=pd.read_csv('test.csv')"
   ]
  },
  {
   "cell_type": "code",
   "execution_count": 60,
   "metadata": {},
   "outputs": [],
   "source": [
    "X_train = X_train / 255.0\n",
    "test = test / 255.0\n",
    "X_train = X_train.values.reshape(-1,28,28,1)\n",
    "test = test.values.reshape(-1,28,28,1)"
   ]
  },
  {
   "cell_type": "code",
   "execution_count": 61,
   "metadata": {
    "scrolled": true
   },
   "outputs": [
    {
     "name": "stdout",
     "output_type": "stream",
     "text": [
      "Epoch 1/50\n",
      "1313/1313 [==============================] - 14s 11ms/step - loss: 0.7743 - accuracy: 0.7621\n",
      "Epoch 2/50\n",
      "1313/1313 [==============================] - 14s 11ms/step - loss: 0.3258 - accuracy: 0.9014\n",
      "Epoch 3/50\n",
      "1313/1313 [==============================] - 14s 10ms/step - loss: 0.2460 - accuracy: 0.9240\n",
      "Epoch 4/50\n",
      "1313/1313 [==============================] - 14s 10ms/step - loss: 0.1951 - accuracy: 0.9402\n",
      "Epoch 5/50\n",
      "1313/1313 [==============================] - 14s 11ms/step - loss: 0.1641 - accuracy: 0.9494\n",
      "Epoch 6/50\n",
      "1313/1313 [==============================] - 14s 10ms/step - loss: 0.1425 - accuracy: 0.9560\n",
      "Epoch 7/50\n",
      "1313/1313 [==============================] - 14s 10ms/step - loss: 0.1282 - accuracy: 0.9598\n",
      "Epoch 8/50\n",
      "1313/1313 [==============================] - 14s 10ms/step - loss: 0.1186 - accuracy: 0.9643\n",
      "Epoch 9/50\n",
      "1313/1313 [==============================] - 14s 11ms/step - loss: 0.1086 - accuracy: 0.9663\n",
      "Epoch 10/50\n",
      "1313/1313 [==============================] - 13s 10ms/step - loss: 0.1005 - accuracy: 0.9690\n",
      "Epoch 11/50\n",
      "1313/1313 [==============================] - 13s 10ms/step - loss: 0.0947 - accuracy: 0.9702\n",
      "Epoch 12/50\n",
      "1313/1313 [==============================] - 15s 12ms/step - loss: 0.0897 - accuracy: 0.9719\n",
      "Epoch 13/50\n",
      "1313/1313 [==============================] - 12s 9ms/step - loss: 0.0840 - accuracy: 0.9736\n",
      "Epoch 14/50\n",
      "1313/1313 [==============================] - 12s 9ms/step - loss: 0.0803 - accuracy: 0.9754\n",
      "Epoch 15/50\n",
      "1313/1313 [==============================] - 12s 9ms/step - loss: 0.0768 - accuracy: 0.9755\n",
      "Epoch 16/50\n",
      "1313/1313 [==============================] - 12s 9ms/step - loss: 0.0729 - accuracy: 0.9770\n",
      "Epoch 17/50\n",
      "1313/1313 [==============================] - 12s 9ms/step - loss: 0.0698 - accuracy: 0.9780\n",
      "Epoch 18/50\n",
      "1313/1313 [==============================] - 12s 9ms/step - loss: 0.0671 - accuracy: 0.9790\n",
      "Epoch 19/50\n",
      "1313/1313 [==============================] - 12s 9ms/step - loss: 0.0646 - accuracy: 0.9796\n",
      "Epoch 20/50\n",
      "1313/1313 [==============================] - 12s 9ms/step - loss: 0.0606 - accuracy: 0.9800\n",
      "Epoch 21/50\n",
      "1313/1313 [==============================] - 12s 9ms/step - loss: 0.0582 - accuracy: 0.9817\n",
      "Epoch 22/50\n",
      "1313/1313 [==============================] - 12s 9ms/step - loss: 0.0542 - accuracy: 0.9824\n",
      "Epoch 23/50\n",
      "1313/1313 [==============================] - 13s 10ms/step - loss: 0.0540 - accuracy: 0.9824\n",
      "Epoch 24/50\n",
      "1313/1313 [==============================] - 12s 9ms/step - loss: 0.0534 - accuracy: 0.9829\n",
      "Epoch 25/50\n",
      "1313/1313 [==============================] - 12s 9ms/step - loss: 0.0505 - accuracy: 0.9840\n",
      "Epoch 26/50\n",
      "1313/1313 [==============================] - 12s 9ms/step - loss: 0.0492 - accuracy: 0.9838\n",
      "Epoch 27/50\n",
      "1313/1313 [==============================] - 13s 10ms/step - loss: 0.0474 - accuracy: 0.9850\n",
      "Epoch 28/50\n",
      "1313/1313 [==============================] - 12s 9ms/step - loss: 0.0456 - accuracy: 0.9853\n",
      "Epoch 29/50\n",
      "1313/1313 [==============================] - 12s 9ms/step - loss: 0.0456 - accuracy: 0.9847\n",
      "Epoch 30/50\n",
      "1313/1313 [==============================] - 13s 10ms/step - loss: 0.0442 - accuracy: 0.9855\n",
      "Epoch 31/50\n",
      "1313/1313 [==============================] - 13s 10ms/step - loss: 0.0414 - accuracy: 0.9862\n",
      "Epoch 32/50\n",
      "1313/1313 [==============================] - 13s 10ms/step - loss: 0.0414 - accuracy: 0.9864\n",
      "Epoch 33/50\n",
      "1313/1313 [==============================] - 12s 9ms/step - loss: 0.0393 - accuracy: 0.9869\n",
      "Epoch 34/50\n",
      "1313/1313 [==============================] - 12s 9ms/step - loss: 0.0391 - accuracy: 0.9877\n",
      "Epoch 35/50\n",
      "1313/1313 [==============================] - 12s 9ms/step - loss: 0.0378 - accuracy: 0.9878\n",
      "Epoch 36/50\n",
      "1313/1313 [==============================] - 12s 9ms/step - loss: 0.0363 - accuracy: 0.9885\n",
      "Epoch 37/50\n",
      "1313/1313 [==============================] - 12s 9ms/step - loss: 0.0355 - accuracy: 0.9883\n",
      "Epoch 38/50\n",
      "1313/1313 [==============================] - 12s 9ms/step - loss: 0.0339 - accuracy: 0.9885\n",
      "Epoch 39/50\n",
      "1313/1313 [==============================] - 12s 9ms/step - loss: 0.0320 - accuracy: 0.9895\n",
      "Epoch 40/50\n",
      "1313/1313 [==============================] - 12s 10ms/step - loss: 0.0307 - accuracy: 0.9903\n",
      "Epoch 41/50\n",
      "1313/1313 [==============================] - 12s 9ms/step - loss: 0.0318 - accuracy: 0.9895\n",
      "Epoch 42/50\n",
      "1313/1313 [==============================] - 13s 10ms/step - loss: 0.0307 - accuracy: 0.9894\n",
      "Epoch 43/50\n",
      "1313/1313 [==============================] - 12s 9ms/step - loss: 0.0314 - accuracy: 0.9898\n",
      "Epoch 44/50\n",
      "1313/1313 [==============================] - 12s 9ms/step - loss: 0.0284 - accuracy: 0.9907\n",
      "Epoch 45/50\n",
      "1313/1313 [==============================] - 12s 9ms/step - loss: 0.0287 - accuracy: 0.9904\n",
      "Epoch 46/50\n",
      "1313/1313 [==============================] - 12s 9ms/step - loss: 0.0290 - accuracy: 0.9902\n",
      "Epoch 47/50\n",
      "1313/1313 [==============================] - 12s 9ms/step - loss: 0.0269 - accuracy: 0.9910\n",
      "Epoch 48/50\n",
      "1313/1313 [==============================] - 12s 10ms/step - loss: 0.0261 - accuracy: 0.9912\n",
      "Epoch 49/50\n",
      "1313/1313 [==============================] - 12s 9ms/step - loss: 0.0266 - accuracy: 0.9914\n",
      "Epoch 50/50\n",
      "1313/1313 [==============================] - 13s 10ms/step - loss: 0.0260 - accuracy: 0.9912\n"
     ]
    },
    {
     "data": {
      "text/plain": [
       "<tensorflow.python.keras.callbacks.History at 0x1e1801cb4c8>"
      ]
     },
     "execution_count": 61,
     "metadata": {},
     "output_type": "execute_result"
    }
   ],
   "source": [
    "model = tf.keras.models.Sequential([\n",
    "    tf.keras.layers.Conv2D(6,(5,5),input_shape=[28,28,1],activation=tf.nn.relu),\n",
    "    tf.keras.layers.AveragePooling2D(pool_size=(2, 2), strides=2, padding='SAME'),\n",
    "    tf.keras.layers.Dropout((0.25)),\n",
    "    tf.keras.layers.Conv2D(16,(5,5),input_shape=[28,28,1],activation=tf.nn.relu),\n",
    "    tf.keras.layers.AveragePooling2D(pool_size=(2, 2), strides=2, padding='SAME'),\n",
    "    tf.keras.layers.Flatten(),\n",
    "    tf.keras.layers.Dense(120,activation=tf.nn.relu),\n",
    "    tf.keras.layers.Dense(120,activation=tf.nn.relu),\n",
    "    tf.keras.layers.Dense(84,activation=tf.nn.relu),\n",
    "    tf.keras.layers.Dense(10,activation=tf.nn.softmax)\n",
    "])\n",
    "optimizer = tf.keras.optimizers.Adam(lr=0.0001)\n",
    "model.compile(loss='sparse_categorical_crossentropy',optimizer=optimizer,metrics=['accuracy'])\n",
    "model.fit(X_train,Y_train,epochs=50)"
   ]
  },
  {
   "cell_type": "code",
   "execution_count": 62,
   "metadata": {},
   "outputs": [],
   "source": [
    "sample=pd.read_csv('sample_submission.csv')"
   ]
  },
  {
   "cell_type": "code",
   "execution_count": 63,
   "metadata": {},
   "outputs": [
    {
     "data": {
      "text/html": [
       "<div>\n",
       "<style scoped>\n",
       "    .dataframe tbody tr th:only-of-type {\n",
       "        vertical-align: middle;\n",
       "    }\n",
       "\n",
       "    .dataframe tbody tr th {\n",
       "        vertical-align: top;\n",
       "    }\n",
       "\n",
       "    .dataframe thead th {\n",
       "        text-align: right;\n",
       "    }\n",
       "</style>\n",
       "<table border=\"1\" class=\"dataframe\">\n",
       "  <thead>\n",
       "    <tr style=\"text-align: right;\">\n",
       "      <th></th>\n",
       "      <th>ImageId</th>\n",
       "      <th>Label</th>\n",
       "    </tr>\n",
       "  </thead>\n",
       "  <tbody>\n",
       "    <tr>\n",
       "      <th>0</th>\n",
       "      <td>1</td>\n",
       "      <td>0</td>\n",
       "    </tr>\n",
       "    <tr>\n",
       "      <th>1</th>\n",
       "      <td>2</td>\n",
       "      <td>0</td>\n",
       "    </tr>\n",
       "    <tr>\n",
       "      <th>2</th>\n",
       "      <td>3</td>\n",
       "      <td>0</td>\n",
       "    </tr>\n",
       "    <tr>\n",
       "      <th>3</th>\n",
       "      <td>4</td>\n",
       "      <td>0</td>\n",
       "    </tr>\n",
       "    <tr>\n",
       "      <th>4</th>\n",
       "      <td>5</td>\n",
       "      <td>0</td>\n",
       "    </tr>\n",
       "    <tr>\n",
       "      <th>...</th>\n",
       "      <td>...</td>\n",
       "      <td>...</td>\n",
       "    </tr>\n",
       "    <tr>\n",
       "      <th>27995</th>\n",
       "      <td>27996</td>\n",
       "      <td>0</td>\n",
       "    </tr>\n",
       "    <tr>\n",
       "      <th>27996</th>\n",
       "      <td>27997</td>\n",
       "      <td>0</td>\n",
       "    </tr>\n",
       "    <tr>\n",
       "      <th>27997</th>\n",
       "      <td>27998</td>\n",
       "      <td>0</td>\n",
       "    </tr>\n",
       "    <tr>\n",
       "      <th>27998</th>\n",
       "      <td>27999</td>\n",
       "      <td>0</td>\n",
       "    </tr>\n",
       "    <tr>\n",
       "      <th>27999</th>\n",
       "      <td>28000</td>\n",
       "      <td>0</td>\n",
       "    </tr>\n",
       "  </tbody>\n",
       "</table>\n",
       "<p>28000 rows × 2 columns</p>\n",
       "</div>"
      ],
      "text/plain": [
       "       ImageId  Label\n",
       "0            1      0\n",
       "1            2      0\n",
       "2            3      0\n",
       "3            4      0\n",
       "4            5      0\n",
       "...        ...    ...\n",
       "27995    27996      0\n",
       "27996    27997      0\n",
       "27997    27998      0\n",
       "27998    27999      0\n",
       "27999    28000      0\n",
       "\n",
       "[28000 rows x 2 columns]"
      ]
     },
     "execution_count": 63,
     "metadata": {},
     "output_type": "execute_result"
    }
   ],
   "source": [
    "sample"
   ]
  },
  {
   "cell_type": "code",
   "execution_count": 64,
   "metadata": {},
   "outputs": [
    {
     "name": "stdout",
     "output_type": "stream",
     "text": [
      "WARNING:tensorflow:From <ipython-input-64-d7f03a92d065>:1: Sequential.predict_classes (from tensorflow.python.keras.engine.sequential) is deprecated and will be removed after 2021-01-01.\n",
      "Instructions for updating:\n",
      "Please use instead:* `np.argmax(model.predict(x), axis=-1)`,   if your model does multi-class classification   (e.g. if it uses a `softmax` last-layer activation).* `(model.predict(x) > 0.5).astype(\"int32\")`,   if your model does binary classification   (e.g. if it uses a `sigmoid` last-layer activation).\n"
     ]
    }
   ],
   "source": [
    "prediction=model.predict_classes(test)"
   ]
  },
  {
   "cell_type": "code",
   "execution_count": 65,
   "metadata": {},
   "outputs": [
    {
     "data": {
      "text/plain": [
       "array([2, 0, 9, ..., 3, 9, 2], dtype=int64)"
      ]
     },
     "execution_count": 65,
     "metadata": {},
     "output_type": "execute_result"
    }
   ],
   "source": [
    "prediction"
   ]
  },
  {
   "cell_type": "code",
   "execution_count": 66,
   "metadata": {},
   "outputs": [],
   "source": [
    "submissions=pd.DataFrame({\"ImageId\": list(range(1,len(prediction)+1)),\n",
    "                         \"Label\": prediction})\n",
    "submissions.to_csv(\"DR.csv\", index=False, header=True)"
   ]
  },
  {
   "cell_type": "code",
   "execution_count": null,
   "metadata": {},
   "outputs": [],
   "source": []
  }
 ],
 "metadata": {
  "kernelspec": {
   "display_name": "Python 3",
   "language": "python",
   "name": "python3"
  },
  "language_info": {
   "codemirror_mode": {
    "name": "ipython",
    "version": 3
   },
   "file_extension": ".py",
   "mimetype": "text/x-python",
   "name": "python",
   "nbconvert_exporter": "python",
   "pygments_lexer": "ipython3",
   "version": "3.7.6"
  }
 },
 "nbformat": 4,
 "nbformat_minor": 4
}
